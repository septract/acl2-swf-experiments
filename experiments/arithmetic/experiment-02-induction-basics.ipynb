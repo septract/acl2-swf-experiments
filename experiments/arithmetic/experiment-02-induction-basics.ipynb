{
 "cells": [
  {
   "cell_type": "raw",
   "metadata": {},
   "source": [
    "; Basic induction theorems inspired by Software Foundations\n",
    "; Source: https://softwarefoundations.cis.upenn.edu/lf-current/Induction.html\n",
    ";\n",
    "; These theorems parallel the Coq proofs in the Induction chapter,\n",
    "; adapted for ACL2's natural number arithmetic."
   ]
  },
  {
   "cell_type": "code",
   "execution_count": 1,
   "metadata": {},
   "outputs": [
    {
     "execution_count": 1,
     "name": "stdout",
     "output_type": "stream",
     "text": [
      " \"ACL2\"\n"
     ]
    }
   ],
   "source": [
    "(in-package \"ACL2\")"
   ]
  },
  {
   "cell_type": "code",
   "execution_count": 2,
   "metadata": {},
   "outputs": [
    {
     "execution_count": 2,
     "name": "stdout",
     "output_type": "stream",
     "text": [
      "\n",
      "ACL2 Warning [Subsume] in ( DEFTHM ADD-0-R ...):  The previously added\n",
      "rule COMMUTATIVITY-OF-+ subsumes a newly proposed :REWRITE rule generated\n",
      "from ADD-0-R, in the sense that the old rule rewrites a more general\n",
      "target.  Because the new rule will be tried first, it may nonetheless\n",
      "find application.\n",
      "\n",
      "\n",
      "Q.E.D.\n",
      "\n",
      "Summary\n",
      "Form:  ( DEFTHM ADD-0-R ...)\n",
      "Rules: ((:EXECUTABLE-COUNTERPART TAU-SYSTEM))\n",
      "Warnings:  Subsume\n",
      "Time:  0.00 seconds (prove: 0.00, print: 0.00, other: 0.00)\n",
      "Prover steps counted:  12\n",
      " ADD-0-R\n"
     ]
    }
   ],
   "source": [
    "; Theorem add_0_r: ∀ n, n + 0 = n\n",
    "; Source: Software Foundations Induction.v, add_0_r\n",
    "; Note: We need to specify that n is a number in ACL2\n",
    "(defthm add-0-r\n",
    "  (implies (acl2-numberp n)\n",
    "           (equal (+ n 0) n)))"
   ]
  },
  {
   "cell_type": "code",
   "execution_count": 3,
   "metadata": {},
   "outputs": [
    {
     "execution_count": 3,
     "name": "stdout",
     "output_type": "stream",
     "text": [
      "\n",
      "ACL2 Warning [Subsume] in ( DEFTHM MINUS-N-N ...):  The previously\n",
      "added rules INVERSE-OF-+ and COMMUTATIVITY-OF-+ subsume a newly proposed\n",
      ":REWRITE rule generated from MINUS-N-N, in the sense that the old rules\n",
      "rewrite more general targets.  Because the new rule will be tried first,\n",
      "it may nonetheless find application.\n",
      "\n",
      "\n",
      "Q.E.D.\n",
      "\n",
      "Summary\n",
      "Form:  ( DEFTHM MINUS-N-N ...)\n",
      "Rules: ((:EXECUTABLE-COUNTERPART EQUAL)\n",
      "        (:EXECUTABLE-COUNTERPART IF)\n",
      "        (:REWRITE INVERSE-OF-+))\n",
      "Warnings:  Subsume\n",
      "Time:  0.00 seconds (prove: 0.00, print: 0.00, other: 0.00)\n",
      "Prover steps counted:  14\n",
      " MINUS-N-N\n"
     ]
    }
   ],
   "source": [
    "; Theorem minus_n_n: ∀ n, n - n = 0\n",
    "; Source: Software Foundations Induction.v, minus_n_n\n",
    "(defthm minus-n-n\n",
    "  (implies (acl2-numberp n)\n",
    "           (equal (- n n) 0)))"
   ]
  },
  {
   "cell_type": "code",
   "execution_count": 4,
   "metadata": {},
   "outputs": [
    {
     "execution_count": 4,
     "name": "stdout",
     "output_type": "stream",
     "text": [
      "\n",
      "ACL2 Warning [Subsume] in ( DEFTHM MUL-0-R ...):  The previously added\n",
      "rule COMMUTATIVITY-OF-* subsumes a newly proposed :REWRITE rule generated\n",
      "from MUL-0-R, in the sense that the old rule rewrites a more general\n",
      "target.  Because the new rule will be tried first, it may nonetheless\n",
      "find application.\n",
      "\n",
      "\n",
      "Q.E.D.\n",
      "\n",
      "Summary\n",
      "Form:  ( DEFTHM MUL-0-R ...)\n",
      "Rules: ((:FAKE-RUNE-FOR-TYPE-SET NIL))\n",
      "Warnings:  Subsume\n",
      "Time:  0.00 seconds (prove: 0.00, print: 0.00, other: 0.00)\n",
      " MUL-0-R\n"
     ]
    }
   ],
   "source": [
    "; Theorem mul_0_r: ∀ n, n * 0 = 0\n",
    "; Source: Software Foundations Induction.v, mul_0_r (exercise)\n",
    "(defthm mul-0-r\n",
    "  (implies (acl2-numberp n)\n",
    "           (equal (* n 0) 0)))"
   ]
  },
  {
   "cell_type": "code",
   "execution_count": 5,
   "metadata": {},
   "outputs": [
    {
     "execution_count": 5,
     "name": "stdout",
     "output_type": "stream",
     "text": [
      "\n",
      "ACL2 Warning [Subsume] in ( DEFTHM PLUS-N-SM ...):  The previously\n",
      "added rules COMMUTATIVITY-2-OF-+ and COMMUTATIVITY-OF-+ subsume a newly\n",
      "proposed :REWRITE rule generated from PLUS-N-SM, in the sense that\n",
      "the old rules rewrite more general targets.  Because the new rule will\n",
      "be tried first, it may nonetheless find application.\n",
      "\n",
      "\n",
      "Q.E.D.\n",
      "\n",
      "Summary\n",
      "Form:  ( DEFTHM PLUS-N-SM ...)\n",
      "Rules: ((:EXECUTABLE-COUNTERPART TAU-SYSTEM))\n",
      "Warnings:  Subsume\n",
      "Time:  0.00 seconds (prove: 0.00, print: 0.00, other: 0.00)\n",
      "Prover steps counted:  22\n",
      " PLUS-N-SM\n"
     ]
    }
   ],
   "source": [
    "; Theorem plus_n_Sm: ∀ n m, S(n + m) = n + S(m)\n",
    "; Source: Software Foundations Induction.v, plus_n_Sm (exercise)\n",
    "; In ACL2: (1+ (+ n m)) = (+ n (1+ m))\n",
    "(defthm plus-n-sm\n",
    "  (implies (and (acl2-numberp n)\n",
    "                (acl2-numberp m))\n",
    "           (equal (+ 1 (+ n m))\n",
    "                  (+ n (+ 1 m)))))"
   ]
  },
  {
   "cell_type": "code",
   "execution_count": 6,
   "metadata": {},
   "outputs": [
    {
     "execution_count": 6,
     "name": "stdout",
     "output_type": "stream",
     "text": [
      "\n",
      "ACL2 Warning [Subsume] in ( DEFTHM ADD-COMM-SWF ...):  The previously\n",
      "added rule COMMUTATIVITY-OF-+ subsumes a newly proposed :REWRITE rule\n",
      "generated from ADD-COMM-SWF, in the sense that the old rule rewrites\n",
      "a more general target.  Because the new rule will be tried first, it\n",
      "may nonetheless find application.\n",
      "\n",
      "\n",
      "Q.E.D.\n",
      "\n",
      "Summary\n",
      "Form:  ( DEFTHM ADD-COMM-SWF ...)\n",
      "Rules: ((:EXECUTABLE-COUNTERPART TAU-SYSTEM))\n",
      "Warnings:  Subsume\n",
      "Time:  0.00 seconds (prove: 0.00, print: 0.00, other: 0.00)\n",
      "Prover steps counted:  18\n",
      " ADD-COMM-SWF\n"
     ]
    }
   ],
   "source": [
    "; Theorem add_comm: ∀ n m, n + m = m + n\n",
    "; Source: Software Foundations Induction.v, add_comm (exercise)\n",
    "; This is already proved as addition-commutative in experiment-01,\n",
    "; but included here for completeness with Software Foundations\n",
    "(defthm add-comm-swf\n",
    "  (implies (and (acl2-numberp n)\n",
    "                (acl2-numberp m))\n",
    "           (equal (+ n m)\n",
    "                  (+ m n))))"
   ]
  },
  {
   "cell_type": "code",
   "execution_count": 7,
   "metadata": {},
   "outputs": [
    {
     "execution_count": 7,
     "name": "stdout",
     "output_type": "stream",
     "text": [
      "\n",
      "ACL2 Warning [Subsume] in ( DEFTHM ADD-ASSOC-SWF ...):  The previously\n",
      "added rules COMMUTATIVITY-2-OF-+ and COMMUTATIVITY-OF-+ subsume a newly\n",
      "proposed :REWRITE rule generated from ADD-ASSOC-SWF, in the sense that\n",
      "the old rules rewrite more general targets.  Because the new rule will\n",
      "be tried first, it may nonetheless find application.\n",
      "\n",
      "\n",
      "Q.E.D.\n",
      "\n",
      "Summary\n",
      "Form:  ( DEFTHM ADD-ASSOC-SWF ...)\n",
      "Rules: ((:EXECUTABLE-COUNTERPART IF)\n",
      "        (:REWRITE ASSOCIATIVITY-OF-+))\n",
      "Warnings:  Subsume\n",
      "Time:  0.00 seconds (prove: 0.00, print: 0.00, other: 0.00)\n",
      "Prover steps counted:  31\n",
      " ADD-ASSOC-SWF\n"
     ]
    }
   ],
   "source": [
    "; Theorem add_assoc: ∀ n m p, n + (m + p) = (n + m) + p\n",
    "; Source: Software Foundations Induction.v, add_assoc\n",
    "; Also already proved in experiment-01, included for completeness\n",
    "(defthm add-assoc-swf\n",
    "  (implies (and (acl2-numberp n)\n",
    "                (acl2-numberp m)\n",
    "                (acl2-numberp p))\n",
    "           (equal (+ n (+ m p))\n",
    "                  (+ (+ n m) p))))"
   ]
  }
 ],
 "metadata": {
  "kernelspec": {
   "display_name": "ACL2",
   "language": "acl2",
   "name": "acl2"
  },
  "language_info": {
   "codemirror_mode": "commonlisp",
   "file_extension": ".lisp",
   "mimetype": "text/x-common-lisp",
   "name": "acl2",
   "pygments_lexer": "common-lisp"
  }
 },
 "nbformat": 4,
 "nbformat_minor": 4
}
