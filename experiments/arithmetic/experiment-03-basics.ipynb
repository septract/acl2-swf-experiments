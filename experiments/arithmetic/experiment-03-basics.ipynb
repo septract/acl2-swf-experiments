{
 "cells": [
  {
   "cell_type": "raw",
   "metadata": {},
   "source": [
    "; Basic arithmetic theorems from Software Foundations Basics chapter\n",
    "; Source: https://softwarefoundations.cis.upenn.edu/lf-current/Basics.html\n",
    ";\n",
    "; These theorems demonstrate fundamental properties of natural numbers\n",
    "; and basic arithmetic operations."
   ]
  },
  {
   "cell_type": "code",
   "execution_count": 1,
   "metadata": {},
   "outputs": [
    {
     "execution_count": 1,
     "name": "stdout",
     "output_type": "stream",
     "text": [
      " \"ACL2\"\n"
     ]
    }
   ],
   "source": [
    "(in-package \"ACL2\")"
   ]
  },
  {
   "cell_type": "code",
   "execution_count": 2,
   "metadata": {},
   "outputs": [
    {
     "execution_count": 2,
     "name": "stdout",
     "output_type": "stream",
     "text": [
      "\n",
      "ACL2 Warning [Subsume] in ( DEFTHM PLUS-0-N ...):  The previously added\n",
      "rules UNICITY-OF-0 and COMMUTATIVITY-OF-+ subsume a newly proposed\n",
      ":REWRITE rule generated from PLUS-0-N, in the sense that the old rules\n",
      "rewrite more general targets.  Because the new rule will be tried first,\n",
      "it may nonetheless find application.\n",
      "\n",
      "Goal'\n",
      "\n",
      "Q.E.D.\n",
      "\n",
      "Summary\n",
      "Form:  ( DEFTHM PLUS-0-N ...)\n",
      "Rules: ((:DEFINITION FIX)\n",
      "        (:FAKE-RUNE-FOR-TYPE-SET NIL)\n",
      "        (:REWRITE UNICITY-OF-0))\n",
      "Warnings:  Subsume\n",
      "Time:  0.00 seconds (prove: 0.00, print: 0.00, other: 0.00)\n",
      "Prover steps counted:  40\n",
      " PLUS-0-N\n"
     ]
    }
   ],
   "source": [
    "; Theorem plus_O_n: ∀ n, 0 + n = n\n",
    "; Source: Software Foundations Basics.v, plus_O_n\n",
    "; Left identity of addition\n",
    "(defthm plus-0-n\n",
    "  (implies (acl2-numberp n)\n",
    "           (equal (+ 0 n) n)))"
   ]
  },
  {
   "cell_type": "code",
   "execution_count": 3,
   "metadata": {},
   "outputs": [
    {
     "execution_count": 3,
     "name": "stdout",
     "output_type": "stream",
     "text": [
      "\n",
      "ACL2 Warning [Subsume] in ( DEFTHM PLUS-1-L ...):  The previously added\n",
      "rule COMMUTATIVITY-OF-+ subsumes a newly proposed :REWRITE rule generated\n",
      "from PLUS-1-L, in the sense that the old rule rewrites a more general\n",
      "target.  Because the new rule will be tried first, it may nonetheless\n",
      "find application.\n",
      "\n",
      "\n",
      "Q.E.D.\n",
      "\n",
      "Summary\n",
      "Form:  ( DEFTHM PLUS-1-L ...)\n",
      "Rules: ((:EXECUTABLE-COUNTERPART TAU-SYSTEM))\n",
      "Warnings:  Subsume\n",
      "Time:  0.00 seconds (prove: 0.00, print: 0.00, other: 0.00)\n",
      "Prover steps counted:  14\n",
      " PLUS-1-L\n"
     ]
    }
   ],
   "source": [
    "; Theorem plus_1_l: ∀ n, 1 + n = S n\n",
    "; Source: Software Foundations Basics.v, plus_1_l\n",
    "; Note: ACL2 doesn't have a separate successor function like Coq's S.\n",
    "; The equivalent property in ACL2 is commutativity of addition with 1.\n",
    "(defthm plus-1-l\n",
    "  (implies (acl2-numberp n)\n",
    "           (equal (+ 1 n) (+ n 1))))"
   ]
  },
  {
   "cell_type": "code",
   "execution_count": 4,
   "metadata": {},
   "outputs": [
    {
     "execution_count": 4,
     "name": "stdout",
     "output_type": "stream",
     "text": [
      "\n",
      "ACL2 Warning [Subsume] in ( DEFTHM MULT-0-L ...):  The previously added\n",
      "rule COMMUTATIVITY-OF-* subsumes a newly proposed :REWRITE rule generated\n",
      "from MULT-0-L, in the sense that the old rule rewrites a more general\n",
      "target.  Because the new rule will be tried first, it may nonetheless\n",
      "find application.\n",
      "\n",
      "\n",
      "Q.E.D.\n",
      "\n",
      "Summary\n",
      "Form:  ( DEFTHM MULT-0-L ...)\n",
      "Rules: ((:FAKE-RUNE-FOR-TYPE-SET NIL))\n",
      "Warnings:  Subsume\n",
      "Time:  0.00 seconds (prove: 0.00, print: 0.00, other: 0.00)\n",
      " MULT-0-L\n"
     ]
    }
   ],
   "source": [
    "; Theorem mult_0_l: ∀ n, 0 * n = 0\n",
    "; Source: Software Foundations Basics.v, mult_0_l\n",
    "; Left zero of multiplication\n",
    "(defthm mult-0-l\n",
    "  (implies (acl2-numberp n)\n",
    "           (equal (* 0 n) 0)))"
   ]
  },
  {
   "cell_type": "code",
   "execution_count": 5,
   "metadata": {},
   "outputs": [
    {
     "execution_count": 5,
     "name": "stdout",
     "output_type": "stream",
     "text": [
      "\n",
      "ACL2 Warning [Subsume] in ( DEFTHM MULT-N-1 ...):  The previously added\n",
      "rule COMMUTATIVITY-OF-* subsumes a newly proposed :REWRITE rule generated\n",
      "from MULT-N-1, in the sense that the old rule rewrites a more general\n",
      "target.  Because the new rule will be tried first, it may nonetheless\n",
      "find application.\n",
      "\n",
      "\n",
      "Q.E.D.\n",
      "\n",
      "Summary\n",
      "Form:  ( DEFTHM MULT-N-1 ...)\n",
      "Rules: ((:DEFINITION FIX)\n",
      "        (:FAKE-RUNE-FOR-TYPE-SET NIL)\n",
      "        (:REWRITE COMMUTATIVITY-OF-*)\n",
      "        (:REWRITE UNICITY-OF-1))\n",
      "Warnings:  Subsume\n",
      "Time:  0.00 seconds (prove: 0.00, print: 0.00, other: 0.00)\n",
      "Prover steps counted:  45\n",
      " MULT-N-1\n"
     ]
    }
   ],
   "source": [
    "; Theorem mult_n_1: ∀ n, n * 1 = n\n",
    "; Source: Software Foundations Basics.v, mult_n_1 (exercise)\n",
    "; Right identity of multiplication\n",
    "(defthm mult-n-1\n",
    "  (implies (acl2-numberp n)\n",
    "           (equal (* n 1) n)))"
   ]
  },
  {
   "cell_type": "code",
   "execution_count": 6,
   "metadata": {},
   "outputs": [
    {
     "execution_count": 6,
     "name": "stdout",
     "output_type": "stream",
     "text": [
      "\n",
      "ACL2 Warning [Subsume] in ( DEFTHM MULT-1-N ...):  The previously added\n",
      "rules UNICITY-OF-1 and COMMUTATIVITY-OF-* subsume a newly proposed\n",
      ":REWRITE rule generated from MULT-1-N, in the sense that the old rules\n",
      "rewrite more general targets.  Because the new rule will be tried first,\n",
      "it may nonetheless find application.\n",
      "\n",
      "Goal'\n",
      "\n",
      "Q.E.D.\n",
      "\n",
      "Summary\n",
      "Form:  ( DEFTHM MULT-1-N ...)\n",
      "Rules: ((:DEFINITION FIX)\n",
      "        (:FAKE-RUNE-FOR-TYPE-SET NIL)\n",
      "        (:REWRITE UNICITY-OF-1))\n",
      "Warnings:  Subsume\n",
      "Time:  0.00 seconds (prove: 0.00, print: 0.00, other: 0.00)\n",
      "Prover steps counted:  40\n",
      " MULT-1-N\n"
     ]
    }
   ],
   "source": [
    "; Additional theorem: left identity of multiplication\n",
    "(defthm mult-1-n\n",
    "  (implies (acl2-numberp n)\n",
    "           (equal (* 1 n) n)))"
   ]
  },
  {
   "cell_type": "code",
   "execution_count": 7,
   "metadata": {},
   "outputs": [
    {
     "execution_count": 7,
     "name": "stdout",
     "output_type": "stream",
     "text": [
      "\n",
      "ACL2 Warning [Subsume] in ( DEFTHM MULT-2-N ...):  The previously added\n",
      "rule COMMUTATIVITY-OF-* subsumes a newly proposed :REWRITE rule generated\n",
      "from MULT-2-N, in the sense that the old rule rewrites a more general\n",
      "target.  Because the new rule will be tried first, it may nonetheless\n",
      "find application.\n",
      "\n",
      "\n",
      "Q.E.D.\n",
      "\n",
      "Summary\n",
      "Form:  ( DEFTHM MULT-2-N ...)\n",
      "Rules: ((:EXECUTABLE-COUNTERPART TAU-SYSTEM))\n",
      "Warnings:  Subsume\n",
      "Time:  0.00 seconds (prove: 0.00, print: 0.00, other: 0.00)\n",
      "Prover steps counted:  14\n",
      " MULT-2-N\n"
     ]
    }
   ],
   "source": [
    "; Theorem: multiplication by 2\n",
    "(defthm mult-2-n\n",
    "  (implies (acl2-numberp n)\n",
    "           (equal (* 2 n) (+ n n))))"
   ]
  },
  {
   "cell_type": "code",
   "execution_count": 8,
   "metadata": {},
   "outputs": [
    {
     "execution_count": 8,
     "name": "stdout",
     "output_type": "stream",
     "text": [
      "\n",
      "ACL2 Warning [Subsume] in ( DEFTHM MULT-COMM ...):  The previously\n",
      "added rule COMMUTATIVITY-OF-* subsumes a newly proposed :REWRITE rule\n",
      "generated from MULT-COMM, in the sense that the old rule rewrites a\n",
      "more general target.  Because the new rule will be tried first, it\n",
      "may nonetheless find application.\n",
      "\n",
      "\n",
      "Q.E.D.\n",
      "\n",
      "Summary\n",
      "Form:  ( DEFTHM MULT-COMM ...)\n",
      "Rules: ((:FAKE-RUNE-FOR-TYPE-SET NIL)\n",
      "        (:REWRITE COMMUTATIVITY-OF-*))\n",
      "Warnings:  Subsume\n",
      "Time:  0.00 seconds (prove: 0.00, print: 0.00, other: 0.00)\n",
      "Prover steps counted:  63\n",
      " MULT-COMM\n"
     ]
    }
   ],
   "source": [
    "; Theorem: commutativity of multiplication\n",
    "(defthm mult-comm\n",
    "  (implies (and (acl2-numberp n)\n",
    "                (acl2-numberp m))\n",
    "           (equal (* n m) (* m n))))"
   ]
  },
  {
   "cell_type": "code",
   "execution_count": 9,
   "metadata": {},
   "outputs": [
    {
     "execution_count": 9,
     "name": "stdout",
     "output_type": "stream",
     "text": [
      "\n",
      "ACL2 Warning [Subsume] in ( DEFTHM MULT-ASSOC ...):  The previously\n",
      "added rule COMMUTATIVITY-OF-* subsumes a newly proposed :REWRITE rule\n",
      "generated from MULT-ASSOC, in the sense that the old rule rewrites\n",
      "a more general target.  Because the new rule will be tried first, it\n",
      "may nonetheless find application.\n",
      "\n",
      "\n",
      "Q.E.D.\n",
      "\n",
      "Summary\n",
      "Form:  ( DEFTHM MULT-ASSOC ...)\n",
      "Rules: ((:EXECUTABLE-COUNTERPART IF)\n",
      "        (:REWRITE ASSOCIATIVITY-OF-*))\n",
      "Warnings:  Subsume\n",
      "Time:  0.00 seconds (prove: 0.00, print: 0.00, other: 0.00)\n",
      "Prover steps counted:  31\n",
      " MULT-ASSOC\n"
     ]
    }
   ],
   "source": [
    "; Theorem: associativity of multiplication\n",
    "(defthm mult-assoc\n",
    "  (implies (and (acl2-numberp n)\n",
    "                (acl2-numberp m)\n",
    "                (acl2-numberp p))\n",
    "           (equal (* n (* m p))\n",
    "                  (* (* n m) p))))"
   ]
  },
  {
   "cell_type": "code",
   "execution_count": 10,
   "metadata": {},
   "outputs": [
    {
     "execution_count": 10,
     "name": "stdout",
     "output_type": "stream",
     "text": [
      "\n",
      "ACL2 Warning [Subsume] in ( DEFTHM MULT-PLUS-DISTR-L ...):  The previously\n",
      "added rules DISTRIBUTIVITY and COMMUTATIVITY-OF-* subsume a newly proposed\n",
      ":REWRITE rule generated from MULT-PLUS-DISTR-L, in the sense that the\n",
      "old rules rewrite more general targets.  Because the new rule will\n",
      "be tried first, it may nonetheless find application.\n",
      "\n",
      "\n",
      "Q.E.D.\n",
      "\n",
      "Summary\n",
      "Form:  ( DEFTHM MULT-PLUS-DISTR-L ...)\n",
      "Rules: ((:FAKE-RUNE-FOR-TYPE-SET NIL)\n",
      "        (:REWRITE DISTRIBUTIVITY)\n",
      "        (:REWRITE MULT-COMM))\n",
      "Warnings:  Subsume\n",
      "Time:  0.00 seconds (prove: 0.00, print: 0.00, other: 0.00)\n",
      "Prover steps counted:  109\n",
      " MULT-PLUS-DISTR-L\n"
     ]
    }
   ],
   "source": [
    "; Theorem: distributivity of multiplication over addition (left)\n",
    "; ∀ n m p, n * (m + p) = n * m + n * p\n",
    "(defthm mult-plus-distr-l\n",
    "  (implies (and (acl2-numberp n)\n",
    "                (acl2-numberp m)\n",
    "                (acl2-numberp p))\n",
    "           (equal (* n (+ m p))\n",
    "                  (+ (* n m) (* n p)))))"
   ]
  },
  {
   "cell_type": "code",
   "execution_count": 11,
   "metadata": {},
   "outputs": [
    {
     "execution_count": 11,
     "name": "stdout",
     "output_type": "stream",
     "text": [
      "\n",
      "ACL2 Warning [Subsume] in ( DEFTHM MULT-PLUS-DISTR-R ...):  The previously\n",
      "added rule COMMUTATIVITY-OF-* subsumes a newly proposed :REWRITE rule\n",
      "generated from MULT-PLUS-DISTR-R, in the sense that the old rule rewrites\n",
      "a more general target.  Because the new rule will be tried first, it\n",
      "may nonetheless find application.\n",
      "\n",
      "\n",
      "Q.E.D.\n",
      "\n",
      "Summary\n",
      "Form:  ( DEFTHM MULT-PLUS-DISTR-R ...)\n",
      "Rules: ((:FAKE-RUNE-FOR-TYPE-SET NIL)\n",
      "        (:REWRITE MULT-COMM)\n",
      "        (:REWRITE MULT-PLUS-DISTR-L))\n",
      "Warnings:  Subsume\n",
      "Time:  0.00 seconds (prove: 0.00, print: 0.00, other: 0.00)\n",
      "Prover steps counted:  112\n",
      " MULT-PLUS-DISTR-R\n"
     ]
    }
   ],
   "source": [
    "; Theorem: distributivity of multiplication over addition (right)\n",
    "; ∀ n m p, (m + p) * n = m * n + p * n\n",
    "(defthm mult-plus-distr-r\n",
    "  (implies (and (acl2-numberp n)\n",
    "                (acl2-numberp m)\n",
    "                (acl2-numberp p))\n",
    "           (equal (* (+ m p) n)\n",
    "                  (+ (* m n) (* p n)))))"
   ]
  }
 ],
 "metadata": {
  "kernelspec": {
   "display_name": "ACL2",
   "language": "acl2",
   "name": "acl2"
  },
  "language_info": {
   "codemirror_mode": "commonlisp",
   "file_extension": ".lisp",
   "mimetype": "text/x-common-lisp",
   "name": "acl2",
   "pygments_lexer": "common-lisp"
  }
 },
 "nbformat": 4,
 "nbformat_minor": 4
}
