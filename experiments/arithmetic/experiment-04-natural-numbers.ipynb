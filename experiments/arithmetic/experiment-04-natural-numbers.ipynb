{
 "cells": [
  {
   "cell_type": "raw",
   "metadata": {},
   "source": [
    "; Natural numbers from first principles, following Software Foundations\n",
    "; Source: https://softwarefoundations.cis.upenn.edu/lf-current/Basics.html\n",
    ";\n",
    "; In Software Foundations, natural numbers are defined inductively:\n",
    ";   Inductive nat : Type :=\n",
    ";     | O : nat\n",
    ";     | S : nat → nat.\n",
    ";\n",
    "; In ACL2, we encode this as a recursive data structure:\n",
    ";   - 0 represents O (zero)\n",
    ";   - (cons 'S n) represents S(n) (successor)"
   ]
  },
  {
   "cell_type": "code",
   "execution_count": 1,
   "metadata": {},
   "outputs": [
    {
     "execution_count": 1,
     "name": "stdout",
     "output_type": "stream",
     "text": [
      " \"ACL2\"\n"
     ]
    }
   ],
   "source": [
    "(in-package \"ACL2\")"
   ]
  },
  {
   "cell_type": "raw",
   "metadata": {},
   "source": [
    ";;; Data structure for natural numbers"
   ]
  },
  {
   "cell_type": "code",
   "execution_count": 2,
   "metadata": {},
   "outputs": [
    {
     "execution_count": 2,
     "name": "stdout",
     "output_type": "stream",
     "text": [
      "\n",
      "The admission of NATP* is trivial, using the relation O< (which is\n",
      "known to be well-founded on the domain recognized by O-P) and the measure\n",
      "(ACL2-COUNT N).  We observe that the type of NATP* is described by\n",
      "the theorem (OR (EQUAL (NATP* N) T) (EQUAL (NATP* N) NIL)).  \n",
      "\n",
      "Summary\n",
      "Form:  ( DEFUN NATP* ...)\n",
      "Rules: NIL\n",
      "Time:  0.00 seconds (prove: 0.00, print: 0.00, other: 0.00)\n",
      " NATP*\n"
     ]
    }
   ],
   "source": [
    "; Recognizer: is this a natural number in our encoding?\n",
    "(defun natp* (n)\n",
    "  (if (equal n 0)\n",
    "      t\n",
    "      (and (consp n)\n",
    "           (equal (car n) 'S)\n",
    "           (natp* (cdr n)))))"
   ]
  },
  {
   "cell_type": "code",
   "execution_count": 3,
   "metadata": {},
   "outputs": [
    {
     "execution_count": 3,
     "name": "stdout",
     "output_type": "stream",
     "text": [
      "\n",
      "Since O is non-recursive, its admission is trivial.  We observe that\n",
      "the type of O is described by the theorem (EQUAL (O) 0).  \n",
      "\n",
      "Summary\n",
      "Form:  ( DEFUN O ...)\n",
      "Rules: NIL\n",
      "Time:  0.00 seconds (prove: 0.00, print: 0.00, other: 0.00)\n",
      " O\n"
     ]
    }
   ],
   "source": [
    "; Constructor: O (zero)\n",
    "(defun O ()\n",
    "  0)"
   ]
  },
  {
   "cell_type": "code",
   "execution_count": 4,
   "metadata": {},
   "outputs": [
    {
     "execution_count": 4,
     "name": "stdout",
     "output_type": "stream",
     "text": [
      "\n",
      "Since S is non-recursive, its admission is trivial.  We observe that\n",
      "the type of S is described by the theorem (CONSP (S N)).  We used primitive\n",
      "type reasoning.\n",
      "\n",
      "Summary\n",
      "Form:  ( DEFUN S ...)\n",
      "Rules: ((:FAKE-RUNE-FOR-TYPE-SET NIL))\n",
      "Time:  0.00 seconds (prove: 0.00, print: 0.00, other: 0.00)\n",
      " S\n"
     ]
    }
   ],
   "source": [
    "; Constructor: S (successor)\n",
    "(defun S (n)\n",
    "  (declare (xargs :guard (natp* n)\n",
    "                  :verify-guards nil))\n",
    "  (cons 'S n))"
   ]
  },
  {
   "cell_type": "raw",
   "metadata": {},
   "source": [
    ";;; Operations on our natural numbers"
   ]
  },
  {
   "cell_type": "code",
   "execution_count": 5,
   "metadata": {},
   "outputs": [
    {
     "execution_count": 5,
     "name": "stdout",
     "output_type": "stream",
     "text": [
      "\n",
      "For the admission of PLUS* we will use the relation O< (which is known\n",
      "to be well-founded on the domain recognized by O-P) and the measure\n",
      "(ACL2-COUNT N).  The non-trivial part of the measure conjecture is\n",
      "\n",
      "Goal\n",
      "(IMPLIES (NOT (OR (NOT (NATP* N)) (EQUAL N 0)))\n",
      "         (O< (ACL2-COUNT (CDR N))\n",
      "             (ACL2-COUNT N))).\n",
      "Goal'\n",
      "Goal''\n",
      "\n",
      "Q.E.D.\n",
      "\n",
      "That completes the proof of the measure theorem for PLUS*.  Thus, we\n",
      "admit this function under the principle of definition.  We observe\n",
      "that the type of PLUS* is described by the theorem \n",
      "(OR (CONSP (PLUS* N M)) (EQUAL (PLUS* N M) M)).  We used the :type-\n",
      "prescription rule S.\n",
      "\n",
      "Summary\n",
      "Form:  ( DEFUN PLUS* ...)\n",
      "Rules: ((:DEFINITION ACL2-COUNT)\n",
      "        (:DEFINITION FIX)\n",
      "        (:DEFINITION NATP*)\n",
      "        (:DEFINITION NOT)\n",
      "        (:DEFINITION O-FINP)\n",
      "        (:DEFINITION O<)\n",
      "        (:EXECUTABLE-COUNTERPART ACL2-COUNT)\n",
      "        (:EXECUTABLE-COUNTERPART NOT)\n",
      "        (:EXECUTABLE-COUNTERPART TAU-SYSTEM)\n",
      "        (:FAKE-RUNE-FOR-TYPE-SET NIL)\n",
      "        (:REWRITE UNICITY-OF-0)\n",
      "        (:TYPE-PRESCRIPTION ACL2-COUNT)\n",
      "        (:TYPE-PRESCRIPTION S))\n",
      "Time:  0.00 seconds (prove: 0.00, print: 0.00, other: 0.00)\n",
      "Prover steps counted:  389\n",
      " PLUS*\n"
     ]
    }
   ],
   "source": [
    "; Addition: defined recursively\n",
    "; In Coq: Fixpoint plus (n : nat) (m : nat) : nat :=\n",
    ";   match n with\n",
    ";   | O => m\n",
    ";   | S n' => S (plus n' m)\n",
    ";   end.\n",
    "(defun plus* (n m)\n",
    "  (declare (xargs :guard (and (natp* n) (natp* m))\n",
    "                  :verify-guards nil))\n",
    "  (if (or (not (natp* n)) (equal n 0))\n",
    "      m\n",
    "      (S (plus* (cdr n) m))))"
   ]
  },
  {
   "cell_type": "code",
   "execution_count": 6,
   "metadata": {},
   "outputs": [
    {
     "execution_count": 6,
     "name": "stdout",
     "output_type": "stream",
     "text": [
      "\n",
      "For the admission of MULT* we will use the relation O< (which is known\n",
      "to be well-founded on the domain recognized by O-P) and the measure\n",
      "(ACL2-COUNT N).  The non-trivial part of the measure conjecture is\n",
      "\n",
      "Goal\n",
      "(IMPLIES (NOT (OR (NOT (NATP* N)) (EQUAL N 0)))\n",
      "         (O< (ACL2-COUNT (CDR N))\n",
      "             (ACL2-COUNT N))).\n",
      "Goal'\n",
      "Goal''\n",
      "\n",
      "Q.E.D.\n",
      "\n",
      "That completes the proof of the measure theorem for MULT*.  Thus, we\n",
      "admit this function under the principle of definition.  We observe\n",
      "that the type of MULT* is described by the theorem \n",
      "(OR (EQUAL (MULT* N M) 0) (CONSP (MULT* N M))).  We used the :type-\n",
      "prescription rule PLUS*.\n",
      "\n",
      "Summary\n",
      "Form:  ( DEFUN MULT* ...)\n",
      "Rules: ((:DEFINITION ACL2-COUNT)\n",
      "        (:DEFINITION FIX)\n",
      "        (:DEFINITION NATP*)\n",
      "        (:DEFINITION NOT)\n",
      "        (:DEFINITION O-FINP)\n",
      "        (:DEFINITION O<)\n",
      "        (:EXECUTABLE-COUNTERPART ACL2-COUNT)\n",
      "        (:EXECUTABLE-COUNTERPART NOT)\n",
      "        (:EXECUTABLE-COUNTERPART TAU-SYSTEM)\n",
      "        (:FAKE-RUNE-FOR-TYPE-SET NIL)\n",
      "        (:REWRITE UNICITY-OF-0)\n",
      "        (:TYPE-PRESCRIPTION ACL2-COUNT)\n",
      "        (:TYPE-PRESCRIPTION PLUS*))\n",
      "Time:  0.00 seconds (prove: 0.00, print: 0.00, other: 0.00)\n",
      "Prover steps counted:  389\n",
      " MULT*\n"
     ]
    }
   ],
   "source": [
    "; Multiplication: defined recursively\n",
    "; In Coq: Fixpoint mult (n m : nat) : nat :=\n",
    ";   match n with\n",
    ";   | O => O\n",
    ";   | S n' => plus m (mult n' m)\n",
    ";   end.\n",
    "(defun mult* (n m)\n",
    "  (declare (xargs :guard (and (natp* n) (natp* m))\n",
    "                  :verify-guards nil))\n",
    "  (if (or (not (natp* n)) (equal n 0))\n",
    "      0\n",
    "      (plus* m (mult* (cdr n) m))))"
   ]
  },
  {
   "cell_type": "raw",
   "metadata": {},
   "source": [
    ";;; Conversion functions to/from built-in naturals"
   ]
  },
  {
   "cell_type": "code",
   "execution_count": 7,
   "metadata": {},
   "outputs": [
    {
     "execution_count": 7,
     "name": "stdout",
     "output_type": "stream",
     "text": [
      "\n",
      "The admission of NAT-TO-NAT* is trivial, using the relation O< (which\n",
      "is known to be well-founded on the domain recognized by O-P) and the\n",
      "measure (ACL2-COUNT N).  We observe that the type of NAT-TO-NAT* is\n",
      "described by the theorem \n",
      "(OR (EQUAL (NAT-TO-NAT* N) 0) (CONSP (NAT-TO-NAT* N))).  We used the\n",
      ":type-prescription rule S.\n",
      "\n",
      "Summary\n",
      "Form:  ( DEFUN NAT-TO-NAT* ...)\n",
      "Rules: ((:TYPE-PRESCRIPTION S))\n",
      "Time:  0.00 seconds (prove: 0.00, print: 0.00, other: 0.00)\n",
      " NAT-TO-NAT*\n"
     ]
    }
   ],
   "source": [
    "; Convert built-in natural to our representation\n",
    "(defun nat-to-nat* (n)\n",
    "  (declare (xargs :guard (natp n)\n",
    "                  :verify-guards nil))\n",
    "  (if (zp n)\n",
    "      0\n",
    "      (S (nat-to-nat* (- n 1)))))"
   ]
  },
  {
   "cell_type": "code",
   "execution_count": 8,
   "metadata": {},
   "outputs": [
    {
     "execution_count": 8,
     "name": "stdout",
     "output_type": "stream",
     "text": [
      "\n",
      "For the admission of NAT*-TO-NAT we will use the relation O< (which\n",
      "is known to be well-founded on the domain recognized by O-P) and the\n",
      "measure (ACL2-COUNT N).  The non-trivial part of the measure conjecture\n",
      "is\n",
      "\n",
      "Goal\n",
      "(IMPLIES (NOT (OR (NOT (NATP* N)) (EQUAL N 0)))\n",
      "         (O< (ACL2-COUNT (CDR N))\n",
      "             (ACL2-COUNT N))).\n",
      "Goal'\n",
      "Goal''\n",
      "\n",
      "Q.E.D.\n",
      "\n",
      "That completes the proof of the measure theorem for NAT*-TO-NAT.  Thus,\n",
      "we admit this function under the principle of definition.  We observe\n",
      "that the type of NAT*-TO-NAT is described by the theorem \n",
      "(AND (INTEGERP (NAT*-TO-NAT N)) (<= 0 (NAT*-TO-NAT N))).  We used primitive\n",
      "type reasoning.\n",
      "\n",
      "Summary\n",
      "Form:  ( DEFUN NAT*-TO-NAT ...)\n",
      "Rules: ((:DEFINITION ACL2-COUNT)\n",
      "        (:DEFINITION FIX)\n",
      "        (:DEFINITION NATP*)\n",
      "        (:DEFINITION NOT)\n",
      "        (:DEFINITION O-FINP)\n",
      "        (:DEFINITION O<)\n",
      "        (:EXECUTABLE-COUNTERPART ACL2-COUNT)\n",
      "        (:EXECUTABLE-COUNTERPART NOT)\n",
      "        (:EXECUTABLE-COUNTERPART TAU-SYSTEM)\n",
      "        (:FAKE-RUNE-FOR-TYPE-SET NIL)\n",
      "        (:REWRITE UNICITY-OF-0)\n",
      "        (:TYPE-PRESCRIPTION ACL2-COUNT))\n",
      "Time:  0.01 seconds (prove: 0.00, print: 0.00, other: 0.00)\n",
      "Prover steps counted:  389\n",
      " NAT*-TO-NAT\n"
     ]
    }
   ],
   "source": [
    "; Convert our representation to built-in natural\n",
    "(defun nat*-to-nat (n)\n",
    "  (declare (xargs :guard (natp* n)\n",
    "                  :verify-guards nil))\n",
    "  (if (or (not (natp* n)) (equal n 0))\n",
    "      0\n",
    "      (+ 1 (nat*-to-nat (cdr n)))))"
   ]
  },
  {
   "cell_type": "raw",
   "metadata": {},
   "source": [
    ";;; Theorems: SWF Chapter \"Basics\""
   ]
  },
  {
   "cell_type": "code",
   "execution_count": 9,
   "metadata": {},
   "outputs": [
    {
     "execution_count": 9,
     "name": "stdout",
     "output_type": "stream",
     "text": [
      "\n",
      "Q.E.D.\n",
      "\n",
      "Summary\n",
      "Form:  ( DEFTHM PLUS*-O-N ...)\n",
      "Rules: ((:DEFINITION PLUS*)\n",
      "        (:EXECUTABLE-COUNTERPART EQUAL)\n",
      "        (:EXECUTABLE-COUNTERPART NATP*)\n",
      "        (:FAKE-RUNE-FOR-TYPE-SET NIL))\n",
      "Time:  0.00 seconds (prove: 0.00, print: 0.00, other: 0.00)\n",
      "Prover steps counted:  60\n",
      " PLUS*-O-N\n"
     ]
    }
   ],
   "source": [
    "; Theorem plus_O_n: ∀ n, 0 + n = n\n",
    "; Source: Software Foundations Basics.v, plus_O_n\n",
    "(defthm plus*-O-n\n",
    "  (implies (natp* n)\n",
    "           (equal (plus* 0 n) n)))"
   ]
  },
  {
   "cell_type": "code",
   "execution_count": 10,
   "metadata": {},
   "outputs": [
    {
     "execution_count": 10,
     "name": "stdout",
     "output_type": "stream",
     "text": [
      "\n",
      "ACL2 Warning [Non-rec] in ( DEFTHM PLUS*-1-L ...):  A :REWRITE rule\n",
      "generated from PLUS*-1-L will be triggered only by terms containing\n",
      "the function symbol S, which has a non-recursive definition.  Unless\n",
      "this definition is disabled, this rule is unlikely ever to be used.\n",
      "\n",
      "Goal'\n",
      "\n",
      "Q.E.D.\n",
      "\n",
      "Summary\n",
      "Form:  ( DEFTHM PLUS*-1-L ...)\n",
      "Rules: ((:DEFINITION PLUS*)\n",
      "        (:DEFINITION S)\n",
      "        (:EXECUTABLE-COUNTERPART CDR)\n",
      "        (:EXECUTABLE-COUNTERPART EQUAL)\n",
      "        (:EXECUTABLE-COUNTERPART NATP*)\n",
      "        (:EXECUTABLE-COUNTERPART S)\n",
      "        (:FAKE-RUNE-FOR-TYPE-SET NIL)\n",
      "        (:REWRITE PLUS*-O-N)\n",
      "        (:TYPE-PRESCRIPTION NATP*))\n",
      "Warnings:  Non-rec\n",
      "Time:  0.00 seconds (prove: 0.00, print: 0.00, other: 0.00)\n",
      "Prover steps counted:  77\n",
      " PLUS*-1-L\n"
     ]
    }
   ],
   "source": [
    "; Theorem plus_1_l: ∀ n, 1 + n = S n\n",
    "; Source: Software Foundations Basics.v, plus_1_l\n",
    "(defthm plus*-1-l\n",
    "  (implies (natp* n)\n",
    "           (equal (plus* (S 0) n)\n",
    "                  (S n))))"
   ]
  },
  {
   "cell_type": "code",
   "execution_count": 11,
   "metadata": {},
   "outputs": [
    {
     "execution_count": 11,
     "name": "stdout",
     "output_type": "stream",
     "text": [
      "\n",
      "Q.E.D.\n",
      "\n",
      "Summary\n",
      "Form:  ( DEFTHM MULT*-0-L ...)\n",
      "Rules: ((:DEFINITION MULT*)\n",
      "        (:EXECUTABLE-COUNTERPART EQUAL)\n",
      "        (:EXECUTABLE-COUNTERPART NATP*))\n",
      "Time:  0.00 seconds (prove: 0.00, print: 0.00, other: 0.00)\n",
      "Prover steps counted:  60\n",
      " MULT*-0-L\n"
     ]
    }
   ],
   "source": [
    "; Theorem mult_0_l: ∀ n, 0 * n = 0\n",
    "; Source: Software Foundations Basics.v, mult_0_l\n",
    "(defthm mult*-0-l\n",
    "  (implies (natp* n)\n",
    "           (equal (mult* 0 n) 0)))"
   ]
  },
  {
   "cell_type": "code",
   "execution_count": 12,
   "metadata": {},
   "outputs": [
    {
     "execution_count": 12,
     "name": "stdout",
     "output_type": "stream",
     "text": [
      "\n",
      "ACL2 Warning [Free] in ( DEFTHM PLUS*-ID-EXERCISE ...):  A :REWRITE\n",
      "rule generated from PLUS*-ID-EXERCISE contains the free variable M.\n",
      "This variable will be chosen by searching for an instance of (NATP* M)\n",
      "in the context of the term being rewritten.  This is generally a severe\n",
      "restriction on the applicability of a :REWRITE rule.  See :DOC free-\n",
      "variables.\n",
      "\n",
      "\n",
      "Q.E.D.\n",
      "\n",
      "Summary\n",
      "Form:  ( DEFTHM PLUS*-ID-EXERCISE ...)\n",
      "Rules: ((:FAKE-RUNE-FOR-TYPE-SET NIL))\n",
      "Warnings:  Free\n",
      "Time:  0.00 seconds (prove: 0.00, print: 0.00, other: 0.00)\n",
      "Prover steps counted:  62\n",
      " PLUS*-ID-EXERCISE\n"
     ]
    }
   ],
   "source": [
    "; Theorem plus_id_exercise: ∀ n m, n = m → n + n = m + m\n",
    "; Source: Software Foundations Basics.v, plus_id_exercise\n",
    "(defthm plus*-id-exercise\n",
    "  (implies (and (natp* n)\n",
    "                (natp* m)\n",
    "                (equal n m))\n",
    "           (equal (plus* n n)\n",
    "                  (plus* m m))))"
   ]
  },
  {
   "cell_type": "raw",
   "metadata": {},
   "source": [
    ";;; Theorems: SWF Chapter \"Induction\""
   ]
  },
  {
   "cell_type": "code",
   "execution_count": 13,
   "metadata": {},
   "outputs": [
    {
     "execution_count": 13,
     "name": "stdout",
     "output_type": "stream",
     "text": [
      "\n",
      "*1 (the initial Goal, a key checkpoint) is pushed for proof by induction.\n",
      "\n",
      "Perhaps we can prove *1 by induction.  Two induction schemes are suggested\n",
      "by this conjecture.  These merge into one derived induction scheme.\n",
      "\n",
      "We will induct according to a scheme suggested by (PLUS* N 0), while\n",
      "accommodating (NATP* N).\n",
      "\n",
      "These suggestions were produced using the :induction rules NATP* and\n",
      "PLUS*.  If we let (:P N) denote *1 above then the induction scheme\n",
      "we'll use is\n",
      "(AND (IMPLIES (AND (NOT (OR (NOT (NATP* N)) (EQUAL N 0)))\n",
      "                   (:P (CDR N)))\n",
      "              (:P N))\n",
      "     (IMPLIES (OR (NOT (NATP* N)) (EQUAL N 0))\n",
      "              (:P N))).\n",
      "This induction is justified by the same argument used to admit PLUS*.\n",
      "When applied to the goal at hand the above induction scheme produces\n",
      "three nontautological subgoals.\n",
      "Subgoal *1/3\n",
      "Subgoal *1/2\n",
      "Subgoal *1/1\n",
      "\n",
      "*1 is COMPLETED!\n",
      "Thus key checkpoint Goal is COMPLETED!\n",
      "\n",
      "Q.E.D.\n",
      "\n",
      "Summary\n",
      "Form:  ( DEFTHM PLUS*-N-O ...)\n",
      "Rules: ((:DEFINITION NATP*)\n",
      "        (:DEFINITION NOT)\n",
      "        (:DEFINITION PLUS*)\n",
      "        (:DEFINITION S)\n",
      "        (:EXECUTABLE-COUNTERPART EQUAL)\n",
      "        (:EXECUTABLE-COUNTERPART NATP*)\n",
      "        (:EXECUTABLE-COUNTERPART NOT)\n",
      "        (:EXECUTABLE-COUNTERPART PLUS*)\n",
      "        (:FAKE-RUNE-FOR-TYPE-SET NIL)\n",
      "        (:INDUCTION NATP*)\n",
      "        (:INDUCTION PLUS*)\n",
      "        (:REWRITE CAR-CONS)\n",
      "        (:REWRITE CDR-CONS)\n",
      "        (:TYPE-PRESCRIPTION NATP*))\n",
      "Time:  0.00 seconds (prove: 0.00, print: 0.00, other: 0.00)\n",
      "Prover steps counted:  456\n",
      " PLUS*-N-O\n"
     ]
    }
   ],
   "source": [
    "; Theorem plus_n_O: ∀ n, n + 0 = n\n",
    "; Source: Software Foundations Induction.v, plus_n_O\n",
    "(defthm plus*-n-O\n",
    "  (implies (natp* n)\n",
    "           (equal (plus* n 0) n)))"
   ]
  },
  {
   "cell_type": "code",
   "execution_count": 14,
   "metadata": {},
   "outputs": [
    {
     "execution_count": 14,
     "name": "stdout",
     "output_type": "stream",
     "text": [
      "\n",
      "*1 (the initial Goal, a key checkpoint) is pushed for proof by induction.\n",
      "\n",
      "Perhaps we can prove *1 by induction.  Two induction schemes are suggested\n",
      "by this conjecture.  These merge into one derived induction scheme.\n",
      "\n",
      "We will induct according to a scheme suggested by (MULT* N 0), while\n",
      "accommodating (NATP* N).\n",
      "\n",
      "These suggestions were produced using the :induction rules MULT* and\n",
      "NATP*.  If we let (:P N) denote *1 above then the induction scheme\n",
      "we'll use is\n",
      "(AND (IMPLIES (AND (NOT (OR (NOT (NATP* N)) (EQUAL N 0)))\n",
      "                   (:P (CDR N)))\n",
      "              (:P N))\n",
      "     (IMPLIES (OR (NOT (NATP* N)) (EQUAL N 0))\n",
      "              (:P N))).\n",
      "This induction is justified by the same argument used to admit MULT*.\n",
      "When applied to the goal at hand the above induction scheme produces\n",
      "three nontautological subgoals.\n",
      "Subgoal *1/3\n",
      "Subgoal *1/2\n",
      "Subgoal *1/1\n",
      "\n",
      "*1 is COMPLETED!\n",
      "Thus key checkpoint Goal is COMPLETED!\n",
      "\n",
      "Q.E.D.\n",
      "\n",
      "Summary\n",
      "Form:  ( DEFTHM MULT*-0-R ...)\n",
      "Rules: ((:DEFINITION MULT*)\n",
      "        (:DEFINITION NATP*)\n",
      "        (:DEFINITION NOT)\n",
      "        (:EXECUTABLE-COUNTERPART EQUAL)\n",
      "        (:EXECUTABLE-COUNTERPART MULT*)\n",
      "        (:EXECUTABLE-COUNTERPART NATP*)\n",
      "        (:EXECUTABLE-COUNTERPART NOT)\n",
      "        (:EXECUTABLE-COUNTERPART PLUS*)\n",
      "        (:FAKE-RUNE-FOR-TYPE-SET NIL)\n",
      "        (:INDUCTION MULT*)\n",
      "        (:INDUCTION NATP*)\n",
      "        (:TYPE-PRESCRIPTION NATP*))\n",
      "Time:  0.00 seconds (prove: 0.00, print: 0.00, other: 0.00)\n",
      "Prover steps counted:  491\n",
      " MULT*-0-R\n"
     ]
    }
   ],
   "source": [
    "; Theorem mult_0_r: ∀ n, n * 0 = 0\n",
    "; Source: Software Foundations Induction.v, mult_0_r\n",
    "(defthm mult*-0-r\n",
    "  (implies (natp* n)\n",
    "           (equal (mult* n 0) 0)))"
   ]
  },
  {
   "cell_type": "code",
   "execution_count": 15,
   "metadata": {},
   "outputs": [
    {
     "execution_count": 15,
     "name": "stdout",
     "output_type": "stream",
     "text": [
      "\n",
      "ACL2 Warning [Non-rec] in ( DEFTHM PLUS*-N-SM ...):  A :REWRITE rule\n",
      "generated from PLUS*-N-SM will be triggered only by terms containing\n",
      "the function symbol S, which has a non-recursive definition.  Unless\n",
      "this definition is disabled, this rule is unlikely ever to be used.\n",
      "\n",
      "\n",
      "ACL2 Warning [Subsume] in ( DEFTHM PLUS*-N-SM ...):  The previously\n",
      "added rule S subsumes a newly proposed :REWRITE rule generated from\n",
      "PLUS*-N-SM, in the sense that the old rule rewrites a more general\n",
      "target.  Because the new rule will be tried first, it may nonetheless\n",
      "find application.\n",
      "\n",
      "Goal'\n",
      "\n",
      "([ A key checkpoint:\n",
      "\n",
      "Goal'\n",
      "(IMPLIES (AND (NATP* N) (NATP* M))\n",
      "         (EQUAL (CONS 'S (PLUS* N M))\n",
      "                (PLUS* N (CONS 'S M))))\n",
      "\n",
      "*1 (Goal') is pushed for proof by induction.\n",
      "\n",
      "])\n",
      "\n",
      "Perhaps we can prove *1 by induction.  Four induction schemes are suggested\n",
      "by this conjecture.  Subsumption reduces that number to three.  These\n",
      "merge into two derived induction schemes.  However, one of these is\n",
      "flawed and so we are left with one viable candidate.  \n",
      "\n",
      "We will induct according to a scheme suggested by (PLUS* N M), while\n",
      "accommodating (NATP* N) and (PLUS* N (CONS 'S M)).\n",
      "\n",
      "These suggestions were produced using the :induction rules NATP* and\n",
      "PLUS*.  If we let (:P M N) denote *1 above then the induction scheme\n",
      "we'll use is\n",
      "(AND (IMPLIES (AND (NOT (OR (NOT (NATP* N)) (EQUAL N 0)))\n",
      "                   (:P M (CDR N)))\n",
      "              (:P M N))\n",
      "     (IMPLIES (OR (NOT (NATP* N)) (EQUAL N 0))\n",
      "              (:P M N))).\n",
      "This induction is justified by the same argument used to admit PLUS*.\n",
      "When applied to the goal at hand the above induction scheme produces\n",
      "three nontautological subgoals.\n",
      "Subgoal *1/3\n",
      "Subgoal *1/2\n",
      "Subgoal *1/1\n",
      "\n",
      "*1 is COMPLETED!\n",
      "Thus key checkpoint Goal' is COMPLETED!\n",
      "\n",
      "Q.E.D.\n",
      "\n",
      "Summary\n",
      "Form:  ( DEFTHM PLUS*-N-SM ...)\n",
      "Rules: ((:DEFINITION NATP*)\n",
      "        (:DEFINITION NOT)\n",
      "        (:DEFINITION PLUS*)\n",
      "        (:DEFINITION S)\n",
      "        (:EXECUTABLE-COUNTERPART EQUAL)\n",
      "        (:EXECUTABLE-COUNTERPART NATP*)\n",
      "        (:EXECUTABLE-COUNTERPART NOT)\n",
      "        (:FAKE-RUNE-FOR-TYPE-SET NIL)\n",
      "        (:INDUCTION NATP*)\n",
      "        (:INDUCTION PLUS*)\n",
      "        (:REWRITE CAR-CONS)\n",
      "        (:REWRITE CDR-CONS)\n",
      "        (:REWRITE PLUS*-O-N)\n",
      "        (:TYPE-PRESCRIPTION NATP*))\n",
      "Warnings:  Subsume and Non-rec\n",
      "Time:  0.00 seconds (prove: 0.00, print: 0.00, other: 0.00)\n",
      "Prover steps counted:  810\n",
      " PLUS*-N-SM\n"
     ]
    }
   ],
   "source": [
    "; Theorem plus_n_Sm: ∀ n m, S(n + m) = n + S(m)\n",
    "; Source: Software Foundations Induction.v, plus_n_Sm\n",
    "(defthm plus*-n-Sm\n",
    "  (implies (and (natp* n)\n",
    "                (natp* m))\n",
    "           (equal (S (plus* n m))\n",
    "                  (plus* n (S m)))))"
   ]
  },
  {
   "cell_type": "code",
   "execution_count": 16,
   "metadata": {},
   "outputs": [
    {
     "execution_count": 16,
     "name": "stdout",
     "output_type": "stream",
     "text": [
      "\n",
      "*1 (the initial Goal, a key checkpoint) is pushed for proof by induction.\n",
      "\n",
      "Perhaps we can prove *1 by induction.  Four induction schemes are suggested\n",
      "by this conjecture.  These merge into two derived induction schemes.\n",
      "We will choose arbitrarily among these.  \n",
      "\n",
      "We will induct according to a scheme suggested by (PLUS* N M), while\n",
      "accommodating (NATP* N).\n",
      "\n",
      "These suggestions were produced using the :induction rules NATP* and\n",
      "PLUS*.  If we let (:P M N) denote *1 above then the induction scheme\n",
      "we'll use is\n",
      "(AND (IMPLIES (AND (NOT (OR (NOT (NATP* N)) (EQUAL N 0)))\n",
      "                   (:P M (CDR N)))\n",
      "              (:P M N))\n",
      "     (IMPLIES (OR (NOT (NATP* N)) (EQUAL N 0))\n",
      "              (:P M N))).\n",
      "This induction is justified by the same argument used to admit PLUS*.\n",
      "When applied to the goal at hand the above induction scheme produces\n",
      "three nontautological subgoals.\n",
      "Subgoal *1/3\n",
      "Subgoal *1/3'\n",
      "Subgoal *1/3''\n",
      "Subgoal *1/3'''\n",
      "Subgoal *1/3'4'\n",
      "Subgoal *1/2\n",
      "Subgoal *1/1\n",
      "\n",
      "*1 is COMPLETED!\n",
      "Thus key checkpoint Goal is COMPLETED!\n",
      "\n",
      "Q.E.D.\n",
      "\n",
      "Summary\n",
      "Form:  ( DEFTHM PLUS*-COMM ...)\n",
      "Rules: ((:DEFINITION NATP*)\n",
      "        (:DEFINITION NOT)\n",
      "        (:DEFINITION PLUS*)\n",
      "        (:DEFINITION S)\n",
      "        (:ELIM CAR-CDR-ELIM)\n",
      "        (:EXECUTABLE-COUNTERPART EQUAL)\n",
      "        (:EXECUTABLE-COUNTERPART NATP*)\n",
      "        (:EXECUTABLE-COUNTERPART NOT)\n",
      "        (:EXECUTABLE-COUNTERPART SYMBOLP)\n",
      "        (:FAKE-RUNE-FOR-TYPE-SET NIL)\n",
      "        (:INDUCTION NATP*)\n",
      "        (:INDUCTION PLUS*)\n",
      "        (:REWRITE PLUS*-N-O)\n",
      "        (:REWRITE PLUS*-N-SM)\n",
      "        (:REWRITE PLUS*-O-N)\n",
      "        (:TYPE-PRESCRIPTION NATP*))\n",
      "Time:  0.01 seconds (prove: 0.01, print: 0.00, other: 0.00)\n",
      "Prover steps counted:  2325\n",
      " PLUS*-COMM\n"
     ]
    }
   ],
   "source": [
    "; Theorem plus_comm: ∀ n m, n + m = m + n\n",
    "; Source: Software Foundations Induction.v, plus_comm\n",
    "(defthm plus*-comm\n",
    "  (implies (and (natp* n)\n",
    "                (natp* m))\n",
    "           (equal (plus* n m)\n",
    "                  (plus* m n))))"
   ]
  },
  {
   "cell_type": "raw",
   "metadata": {},
   "source": [
    ";;; Correctness theorems: our operations match built-in arithmetic"
   ]
  },
  {
   "cell_type": "code",
   "execution_count": 17,
   "metadata": {},
   "outputs": [
    {
     "execution_count": 17,
     "name": "stdout",
     "output_type": "stream",
     "text": [
      "\n",
      "ACL2 Warning [Non-rec] in ( DEFTHM NAT*-TO-NAT-IS-NATP ...):  A :REWRITE\n",
      "rule generated from NAT*-TO-NAT-IS-NATP will be triggered only by terms\n",
      "containing the function symbol NATP, which has a non-recursive definition.\n",
      "Unless this definition is disabled, this rule is unlikely ever to be\n",
      "used.\n",
      "\n",
      "\n",
      "Q.E.D.\n",
      "\n",
      "The storage of NAT*-TO-NAT-IS-NATP depends upon the :compound-recognizer\n",
      "rule NATP-COMPOUND-RECOGNIZER and the :type-prescription rule NAT*-TO-NAT.\n",
      "\n",
      "Summary\n",
      "Form:  ( DEFTHM NAT*-TO-NAT-IS-NATP ...)\n",
      "Rules: ((:COMPOUND-RECOGNIZER NATP-COMPOUND-RECOGNIZER)\n",
      "        (:TYPE-PRESCRIPTION NAT*-TO-NAT))\n",
      "Warnings:  Non-rec\n",
      "Time:  0.00 seconds (prove: 0.00, print: 0.00, other: 0.00)\n",
      " NAT*-TO-NAT-IS-NATP\n"
     ]
    }
   ],
   "source": [
    "; Helper: natp* implies the conversion produces natp\n",
    "(defthm nat*-to-nat-is-natp\n",
    "  (implies (natp* n)\n",
    "           (natp (nat*-to-nat n))))"
   ]
  },
  {
   "cell_type": "code",
   "execution_count": 18,
   "metadata": {},
   "outputs": [
    {
     "execution_count": 18,
     "name": "stdout",
     "output_type": "stream",
     "text": [
      "\n",
      "ACL2 Warning [Non-rec] in ( DEFTHM S-PRESERVES-NATP* ...):  A :REWRITE\n",
      "rule generated from S-PRESERVES-NATP* will be triggered only by terms\n",
      "containing the function symbol S, which has a non-recursive definition.\n",
      "Unless this definition is disabled, this rule is unlikely ever to be\n",
      "used.\n",
      "\n",
      "Goal'\n",
      "\n",
      "Q.E.D.\n",
      "\n",
      "The storage of S-PRESERVES-NATP* depends upon the :type-prescription\n",
      "rule NATP*.\n",
      "\n",
      "Summary\n",
      "Form:  ( DEFTHM S-PRESERVES-NATP* ...)\n",
      "Rules: ((:DEFINITION NATP*)\n",
      "        (:DEFINITION S)\n",
      "        (:EXECUTABLE-COUNTERPART EQUAL)\n",
      "        (:FAKE-RUNE-FOR-TYPE-SET NIL)\n",
      "        (:REWRITE CAR-CONS)\n",
      "        (:REWRITE CDR-CONS)\n",
      "        (:TYPE-PRESCRIPTION NATP*))\n",
      "Warnings:  Non-rec\n",
      "Time:  0.00 seconds (prove: 0.00, print: 0.00, other: 0.00)\n",
      "Prover steps counted:  68\n",
      " S-PRESERVES-NATP*\n"
     ]
    }
   ],
   "source": [
    "; Helper: S produces valid natp*\n",
    "(local\n",
    " (defthm s-preserves-natp*\n",
    "   (implies (natp* n)\n",
    "            (natp* (S n)))))"
   ]
  },
  {
   "cell_type": "code",
   "execution_count": 19,
   "metadata": {},
   "outputs": [
    {
     "execution_count": 19,
     "name": "stdout",
     "output_type": "stream",
     "text": [
      "\n",
      "ACL2 Warning [Non-rec] in ( DEFTHM NAT*-TO-NAT-OF-S ...):  A :REWRITE\n",
      "rule generated from NAT*-TO-NAT-OF-S will be triggered only by terms\n",
      "containing the function symbol S, which has a non-recursive definition.\n",
      "Unless this definition is disabled, this rule is unlikely ever to be\n",
      "used.\n",
      "\n",
      "Goal'\n",
      "\n",
      "Q.E.D.\n",
      "\n",
      "Summary\n",
      "Form:  ( DEFTHM NAT*-TO-NAT-OF-S ...)\n",
      "Rules: ((:DEFINITION NAT*-TO-NAT)\n",
      "        (:DEFINITION NATP*)\n",
      "        (:DEFINITION S)\n",
      "        (:EXECUTABLE-COUNTERPART EQUAL)\n",
      "        (:FAKE-RUNE-FOR-TYPE-SET NIL)\n",
      "        (:REWRITE CAR-CONS)\n",
      "        (:REWRITE CDR-CONS)\n",
      "        (:TYPE-PRESCRIPTION NATP*))\n",
      "Warnings:  Non-rec\n",
      "Time:  0.00 seconds (prove: 0.00, print: 0.00, other: 0.00)\n",
      "Prover steps counted:  166\n",
      " NAT*-TO-NAT-OF-S\n"
     ]
    }
   ],
   "source": [
    "; Helper: S increments the natural number representation\n",
    "(local\n",
    " (defthm nat*-to-nat-of-s\n",
    "   (implies (natp* n)\n",
    "            (equal (nat*-to-nat (S n))\n",
    "                   (+ 1 (nat*-to-nat n))))))"
   ]
  },
  {
   "cell_type": "code",
   "execution_count": 20,
   "metadata": {},
   "outputs": [
    {
     "execution_count": 20,
     "name": "stdout",
     "output_type": "stream",
     "text": [
      "\n",
      "*1 (the initial Goal, a key checkpoint) is pushed for proof by induction.\n",
      "\n",
      "Perhaps we can prove *1 by induction.  Three induction schemes are\n",
      "suggested by this conjecture.  These merge into two derived induction\n",
      "schemes.  However, one of these is flawed and so we are left with one\n",
      "viable candidate.  \n",
      "\n",
      "We will induct according to a scheme suggested by (PLUS* N M), while\n",
      "accommodating (NATP* N).\n",
      "\n",
      "These suggestions were produced using the :induction rules NATP* and\n",
      "PLUS*.  If we let (:P M N) denote *1 above then the induction scheme\n",
      "we'll use is\n",
      "(AND (IMPLIES (AND (NOT (OR (NOT (NATP* N)) (EQUAL N 0)))\n",
      "                   (:P M (CDR N)))\n",
      "              (:P M N))\n",
      "     (IMPLIES (OR (NOT (NATP* N)) (EQUAL N 0))\n",
      "              (:P M N))).\n",
      "This induction is justified by the same argument used to admit PLUS*.\n",
      "When applied to the goal at hand the above induction scheme produces\n",
      "three nontautological subgoals.\n",
      "Subgoal *1/3\n",
      "Subgoal *1/2\n",
      "Subgoal *1/1\n",
      "\n",
      "*1 is COMPLETED!\n",
      "Thus key checkpoint Goal is COMPLETED!\n",
      "\n",
      "Q.E.D.\n",
      "\n",
      "The storage of PLUS*-PRESERVES-NATP* depends upon the :type-prescription\n",
      "rule NATP*.\n",
      "\n",
      "Summary\n",
      "Form:  ( DEFTHM PLUS*-PRESERVES-NATP* ...)\n",
      "Rules: ((:DEFINITION NATP*)\n",
      "        (:DEFINITION NOT)\n",
      "        (:DEFINITION PLUS*)\n",
      "        (:DEFINITION S)\n",
      "        (:EXECUTABLE-COUNTERPART EQUAL)\n",
      "        (:EXECUTABLE-COUNTERPART NATP*)\n",
      "        (:EXECUTABLE-COUNTERPART NOT)\n",
      "        (:FAKE-RUNE-FOR-TYPE-SET NIL)\n",
      "        (:INDUCTION NATP*)\n",
      "        (:INDUCTION PLUS*)\n",
      "        (:REWRITE CAR-CONS)\n",
      "        (:REWRITE CDR-CONS)\n",
      "        (:REWRITE PLUS*-O-N)\n",
      "        (:TYPE-PRESCRIPTION NATP*))\n",
      "Time:  0.01 seconds (prove: 0.00, print: 0.00, other: 0.00)\n",
      "Prover steps counted:  659\n",
      " PLUS*-PRESERVES-NATP*\n"
     ]
    }
   ],
   "source": [
    "; Helper: plus* produces valid natp*\n",
    "(local\n",
    " (defthm plus*-preserves-natp*\n",
    "   (implies (and (natp* n) (natp* m))\n",
    "            (natp* (plus* n m)))\n",
    "   :hints ((\"Goal\" :in-theory (disable plus*-comm plus*-n-sm)))))"
   ]
  },
  {
   "cell_type": "code",
   "execution_count": 21,
   "metadata": {},
   "outputs": [
    {
     "execution_count": 21,
     "name": "stdout",
     "output_type": "stream",
     "text": [
      "Goal'\n",
      "\n",
      "([ A key checkpoint:\n",
      "\n",
      "Goal'\n",
      "(IMPLIES (AND (INTEGERP N) (<= 0 N))\n",
      "         (NATP* (NAT-TO-NAT* N)))\n",
      "\n",
      "*1 (Goal') is pushed for proof by induction.\n",
      "\n",
      "])\n",
      "\n",
      "Perhaps we can prove *1 by induction.  One induction scheme is suggested\n",
      "by this conjecture.  \n",
      "\n",
      "We will induct according to a scheme suggested by (NAT-TO-NAT* N).\n",
      "\n",
      "This suggestion was produced using the :induction rule NAT-TO-NAT*.\n",
      "If we let (:P N) denote *1 above then the induction scheme we'll use\n",
      "is\n",
      "(AND (IMPLIES (AND (NOT (ZP N)) (:P (+ -1 N)))\n",
      "              (:P N))\n",
      "     (IMPLIES (ZP N) (:P N))).\n",
      "This induction is justified by the same argument used to admit NAT-TO-NAT*.\n",
      "When applied to the goal at hand the above induction scheme produces\n",
      "four nontautological subgoals.\n",
      "Subgoal *1/4\n",
      "Subgoal *1/3\n",
      "Subgoal *1/2\n",
      "Subgoal *1/1\n",
      "\n",
      "*1 is COMPLETED!\n",
      "Thus key checkpoint Goal' is COMPLETED!\n",
      "\n",
      "Q.E.D.\n",
      "\n",
      "The storage of NAT-TO-NAT*-IS-NATP* depends upon the :type-prescription\n",
      "rule NATP*.\n",
      "\n",
      "Summary\n",
      "Form:  ( DEFTHM NAT-TO-NAT*-IS-NATP* ...)\n",
      "Rules: ((:COMPOUND-RECOGNIZER ZP-COMPOUND-RECOGNIZER)\n",
      "        (:DEFINITION NAT-TO-NAT*)\n",
      "        (:DEFINITION NATP)\n",
      "        (:DEFINITION NATP*)\n",
      "        (:DEFINITION S)\n",
      "        (:EXECUTABLE-COUNTERPART <)\n",
      "        (:EXECUTABLE-COUNTERPART EQUAL)\n",
      "        (:EXECUTABLE-COUNTERPART INTEGERP)\n",
      "        (:EXECUTABLE-COUNTERPART NAT-TO-NAT*)\n",
      "        (:EXECUTABLE-COUNTERPART NATP*)\n",
      "        (:EXECUTABLE-COUNTERPART NOT)\n",
      "        (:EXECUTABLE-COUNTERPART ZP)\n",
      "        (:FAKE-RUNE-FOR-LINEAR-EQUALITIES NIL)\n",
      "        (:FAKE-RUNE-FOR-TYPE-SET NIL)\n",
      "        (:INDUCTION NAT-TO-NAT*)\n",
      "        (:REWRITE CAR-CONS)\n",
      "        (:REWRITE CDR-CONS)\n",
      "        (:TYPE-PRESCRIPTION NATP*))\n",
      "Time:  0.00 seconds (prove: 0.00, print: 0.00, other: 0.00)\n",
      "Prover steps counted:  250\n",
      " NAT-TO-NAT*-IS-NATP*\n"
     ]
    }
   ],
   "source": [
    "; Helper: nat-to-nat* produces valid natp*\n",
    "(defthm nat-to-nat*-is-natp*\n",
    "  (implies (natp n)\n",
    "           (natp* (nat-to-nat* n))))"
   ]
  },
  {
   "cell_type": "raw",
   "metadata": {},
   "source": [
    ";;; Correctness theorems: linking cons-based nat* operations to built-in arithmetic"
   ]
  },
  {
   "cell_type": "code",
   "execution_count": 22,
   "metadata": {},
   "outputs": [
    {
     "execution_count": 22,
     "name": "stdout",
     "output_type": "stream",
     "text": [
      "Goal'\n",
      "\n",
      "([ A key checkpoint:\n",
      "\n",
      "Goal'\n",
      "(IMPLIES (AND (INTEGERP N) (<= 0 N))\n",
      "         (EQUAL (NAT*-TO-NAT (NAT-TO-NAT* N)) N))\n",
      "\n",
      "*1 (Goal') is pushed for proof by induction.\n",
      "\n",
      "])\n",
      "\n",
      "Perhaps we can prove *1 by induction.  One induction scheme is suggested\n",
      "by this conjecture.  \n",
      "\n",
      "We will induct according to a scheme suggested by (NAT-TO-NAT* N).\n",
      "\n",
      "This suggestion was produced using the :induction rule NAT-TO-NAT*.\n",
      "If we let (:P N) denote *1 above then the induction scheme we'll use\n",
      "is\n",
      "(AND (IMPLIES (AND (NOT (ZP N)) (:P (+ -1 N)))\n",
      "              (:P N))\n",
      "     (IMPLIES (ZP N) (:P N))).\n",
      "This induction is justified by the same argument used to admit NAT-TO-NAT*.\n",
      "When applied to the goal at hand the above induction scheme produces\n",
      "four nontautological subgoals.\n",
      "Subgoal *1/4\n",
      "Subgoal *1/3\n",
      "Subgoal *1/2\n",
      "Subgoal *1/1\n",
      "\n",
      "*1 is COMPLETED!\n",
      "Thus key checkpoint Goal' is COMPLETED!\n",
      "\n",
      "Q.E.D.\n",
      "\n",
      "Summary\n",
      "Form:  ( DEFTHM NAT*-TO-NAT-OF-NAT-TO-NAT* ...)\n",
      "Rules: ((:COMPOUND-RECOGNIZER NATP-COMPOUND-RECOGNIZER)\n",
      "        (:COMPOUND-RECOGNIZER ZP-COMPOUND-RECOGNIZER)\n",
      "        (:DEFINITION FIX)\n",
      "        (:DEFINITION NAT*-TO-NAT)\n",
      "        (:DEFINITION NAT-TO-NAT*)\n",
      "        (:DEFINITION NATP)\n",
      "        (:DEFINITION NATP*)\n",
      "        (:DEFINITION S)\n",
      "        (:DEFINITION SYNP)\n",
      "        (:EXECUTABLE-COUNTERPART <)\n",
      "        (:EXECUTABLE-COUNTERPART BINARY-+)\n",
      "        (:EXECUTABLE-COUNTERPART EQUAL)\n",
      "        (:EXECUTABLE-COUNTERPART INTEGERP)\n",
      "        (:EXECUTABLE-COUNTERPART NAT*-TO-NAT)\n",
      "        (:EXECUTABLE-COUNTERPART NAT-TO-NAT*)\n",
      "        (:EXECUTABLE-COUNTERPART NOT)\n",
      "        (:EXECUTABLE-COUNTERPART ZP)\n",
      "        (:FAKE-RUNE-FOR-LINEAR-EQUALITIES NIL)\n",
      "        (:FAKE-RUNE-FOR-TYPE-SET NIL)\n",
      "        (:INDUCTION NAT-TO-NAT*)\n",
      "        (:REWRITE CAR-CONS)\n",
      "        (:REWRITE CDR-CONS)\n",
      "        (:REWRITE FOLD-CONSTS-IN-+)\n",
      "        (:REWRITE NAT-TO-NAT*-IS-NATP*)\n",
      "        (:REWRITE UNICITY-OF-0))\n",
      "Time:  0.00 seconds (prove: 0.00, print: 0.00, other: 0.00)\n",
      "Prover steps counted:  294\n",
      " NAT*-TO-NAT-OF-NAT-TO-NAT*\n"
     ]
    }
   ],
   "source": [
    "; Helper: conversion round-trip preserves values\n",
    "(defthm nat*-to-nat-of-nat-to-nat*\n",
    "  (implies (natp n)\n",
    "           (equal (nat*-to-nat (nat-to-nat* n))\n",
    "                  n)))"
   ]
  },
  {
   "cell_type": "raw",
   "metadata": {},
   "source": [
    "; NOTE: Additional correctness theorems that prove plus* and mult* correctly\n",
    "; implement built-in ACL2 arithmetic are available in the companion file:\n",
    ";   experiment-04-natural-numbers-correctness.lisp\n",
    ";\n",
    "; That file proves:\n",
    ";  - plus*-preserves-natp*-global: plus* preserves the natp* type\n",
    ";  - mult*-preserves-natp*-global: mult* preserves the natp* type\n",
    ";  - nat*-to-nat-of-plus*: nat*-to-nat distributes over plus*\n",
    ";  - plus*-correct: plus* correctly implements addition\n",
    ";  - nat*-to-nat-of-mult*: nat*-to-nat distributes over mult*\n",
    ";  - mult*-correct: mult* correctly implements multiplication\n",
    ";\n",
    "; These proofs require careful theory management (disabling the S constructor\n",
    "; during rewriting) and are kept separate to maintain stability of this base file."
   ]
  }
 ],
 "metadata": {
  "kernelspec": {
   "display_name": "ACL2",
   "language": "acl2",
   "name": "acl2"
  },
  "language_info": {
   "codemirror_mode": "commonlisp",
   "file_extension": ".lisp",
   "mimetype": "text/x-common-lisp",
   "name": "acl2",
   "pygments_lexer": "common-lisp"
  }
 },
 "nbformat": 4,
 "nbformat_minor": 4
}
