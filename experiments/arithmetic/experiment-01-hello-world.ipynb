{
 "cells": [
  {
   "cell_type": "raw",
   "metadata": {},
   "source": [
    "; ACL2 Hello World - Basic arithmetic theorem\n",
    "; This demonstrates a simple proof that addition is commutative"
   ]
  },
  {
   "cell_type": "code",
   "execution_count": 1,
   "metadata": {},
   "outputs": [
    {
     "execution_count": 1,
     "name": "stdout",
     "output_type": "stream",
     "text": [
      " \"ACL2\"\n"
     ]
    }
   ],
   "source": [
    "(in-package \"ACL2\")"
   ]
  },
  {
   "cell_type": "code",
   "execution_count": 2,
   "metadata": {},
   "outputs": [
    {
     "execution_count": 2,
     "name": "stdout",
     "output_type": "stream",
     "text": [
      "\n",
      "ACL2 Warning [Subsume] in ( DEFTHM ADDITION-COMMUTATIVE ...):  A newly\n",
      "proposed :REWRITE rule generated from ADDITION-COMMUTATIVE probably\n",
      "subsumes the previously added :REWRITE rules DEFAULT-+-2, DEFAULT-+-1,\n",
      "FOLD-CONSTS-IN-+, COMMUTATIVITY-2-OF-+, INVERSE-OF-+, UNICITY-OF-0,\n",
      "COMMUTATIVITY-OF-+ and ASSOCIATIVITY-OF-+, in the sense that the new\n",
      "rule will now probably be applied whenever the old rules would have\n",
      "been.\n",
      "\n",
      "\n",
      "ACL2 Warning [Subsume] in ( DEFTHM ADDITION-COMMUTATIVE ...):  The\n",
      "previously added rule COMMUTATIVITY-OF-+ subsumes a newly proposed\n",
      ":REWRITE rule generated from ADDITION-COMMUTATIVE, in the sense that\n",
      "the old rule rewrites a more general target.  Because the new rule\n",
      "will be tried first, it may nonetheless find application.\n",
      "\n",
      "\n",
      "Q.E.D.\n",
      "\n",
      "Summary\n",
      "Form:  ( DEFTHM ADDITION-COMMUTATIVE ...)\n",
      "Rules: ((:EXECUTABLE-COUNTERPART TAU-SYSTEM))\n",
      "Warnings:  Subsume\n",
      "Time:  0.00 seconds (prove: 0.00, print: 0.00, other: 0.00)\n",
      "Prover steps counted:  7\n",
      " ADDITION-COMMUTATIVE\n"
     ]
    }
   ],
   "source": [
    "; A simple theorem: addition is commutative\n",
    "; ACL2 can prove this automatically\n",
    "(defthm addition-commutative\n",
    "  (equal (+ x y)\n",
    "         (+ y x)))"
   ]
  },
  {
   "cell_type": "code",
   "execution_count": 3,
   "metadata": {},
   "outputs": [
    {
     "execution_count": 3,
     "name": "stdout",
     "output_type": "stream",
     "text": [
      "\n",
      "ACL2 Warning [Subsume] in ( DEFTHM ADDITION-ASSOCIATIVE ...):  A newly\n",
      "proposed :REWRITE rule generated from ADDITION-ASSOCIATIVE probably\n",
      "subsumes the previously added :REWRITE rule ASSOCIATIVITY-OF-+, in\n",
      "the sense that the new rule will now probably be applied whenever the\n",
      "old rule would have been.\n",
      "\n",
      "\n",
      "ACL2 Warning [Subsume] in ( DEFTHM ADDITION-ASSOCIATIVE ...):  The\n",
      "previously added rules ADDITION-COMMUTATIVE, COMMUTATIVITY-OF-+ and\n",
      "ASSOCIATIVITY-OF-+ subsume a newly proposed :REWRITE rule generated\n",
      "from ADDITION-ASSOCIATIVE, in the sense that the old rules rewrite\n",
      "more general targets.  Because the new rule will be tried first, it\n",
      "may nonetheless find application.\n",
      "\n",
      "\n",
      "Q.E.D.\n",
      "\n",
      "Summary\n",
      "Form:  ( DEFTHM ADDITION-ASSOCIATIVE ...)\n",
      "Rules: ((:REWRITE ASSOCIATIVITY-OF-+))\n",
      "Warnings:  Subsume\n",
      "Time:  0.00 seconds (prove: 0.00, print: 0.00, other: 0.00)\n",
      "Prover steps counted:  16\n",
      " ADDITION-ASSOCIATIVE\n"
     ]
    }
   ],
   "source": [
    "; Another basic theorem: associativity of addition\n",
    "(defthm addition-associative\n",
    "  (equal (+ (+ x y) z)\n",
    "         (+ x (+ y z))))"
   ]
  },
  {
   "cell_type": "code",
   "execution_count": 4,
   "metadata": {},
   "outputs": [
    {
     "execution_count": 4,
     "name": "stdout",
     "output_type": "stream",
     "text": [
      "\n",
      "ACL2 Warning [Subsume] in ( DEFTHM ADD-ZERO ...):  The previously added\n",
      "rules ADDITION-COMMUTATIVE and COMMUTATIVITY-OF-+ subsume a newly proposed\n",
      ":REWRITE rule generated from ADD-ZERO, in the sense that the old rules\n",
      "rewrite more general targets.  Because the new rule will be tried first,\n",
      "it may nonetheless find application.\n",
      "\n",
      "\n",
      "Q.E.D.\n",
      "\n",
      "Summary\n",
      "Form:  ( DEFTHM ADD-ZERO ...)\n",
      "Rules: ((:EXECUTABLE-COUNTERPART TAU-SYSTEM))\n",
      "Warnings:  Subsume\n",
      "Time:  0.00 seconds (prove: 0.00, print: 0.00, other: 0.00)\n",
      "Prover steps counted:  12\n",
      " ADD-ZERO\n"
     ]
    }
   ],
   "source": [
    "; A slightly more interesting theorem\n",
    "; Need to specify that x is a number (ACL2's + is defined on all ACL2 objects)\n",
    "(defthm add-zero\n",
    "  (implies (acl2-numberp x)\n",
    "           (equal (+ x 0)\n",
    "                  x)))"
   ]
  },
  {
   "cell_type": "code",
   "execution_count": 5,
   "metadata": {},
   "outputs": [
    {
     "execution_count": 5,
     "name": "stdout",
     "output_type": "stream",
     "text": [
      "\n",
      "ACL2 Warning [Subsume] in ( DEFTHM DOUBLE-IS-ADD ...):  The previously\n",
      "added rule COMMUTATIVITY-OF-* subsumes a newly proposed :REWRITE rule\n",
      "generated from DOUBLE-IS-ADD, in the sense that the old rule rewrites\n",
      "a more general target.  Because the new rule will be tried first, it\n",
      "may nonetheless find application.\n",
      "\n",
      "\n",
      "Q.E.D.\n",
      "\n",
      "Summary\n",
      "Form:  ( DEFTHM DOUBLE-IS-ADD ...)\n",
      "Rules: ((:EXECUTABLE-COUNTERPART TAU-SYSTEM))\n",
      "Warnings:  Subsume\n",
      "Time:  0.00 seconds (prove: 0.00, print: 0.00, other: 0.00)\n",
      "Prover steps counted:  7\n",
      " DOUBLE-IS-ADD\n"
     ]
    }
   ],
   "source": [
    "; Double a number is the same as adding it to itself\n",
    "(defthm double-is-add\n",
    "  (equal (* 2 x)\n",
    "         (+ x x)))"
   ]
  }
 ],
 "metadata": {
  "kernelspec": {
   "display_name": "ACL2",
   "language": "acl2",
   "name": "acl2"
  },
  "language_info": {
   "codemirror_mode": "commonlisp",
   "file_extension": ".lisp",
   "mimetype": "text/x-common-lisp",
   "name": "acl2",
   "pygments_lexer": "common-lisp"
  }
 },
 "nbformat": 4,
 "nbformat_minor": 4
}
